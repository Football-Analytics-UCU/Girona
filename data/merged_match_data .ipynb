{
 "cells": [
  {
   "cell_type": "code",
   "execution_count": 8,
   "id": "0ea5f6b8",
   "metadata": {},
   "outputs": [],
   "source": [
    "import json\n",
    "\n",
    "# Load data from the sofascore file\n",
    "with open('data/sofascore/statistics.json', 'r') as f:\n",
    "    sofascore_data = json.load(f)\n",
    "\n",
    "# Load data from the understat file\n",
    "with open('data/Understat/match_stats.json', 'r') as f:\n",
    "    understat_data = json.load(f)\n",
    "\n"
   ]
  },
  {
   "cell_type": "code",
   "execution_count": 26,
   "id": "afbbcc71",
   "metadata": {},
   "outputs": [],
   "source": [
    "# Merge data\n",
    "merged_data = {}\n",
    "\n",
    "# Assuming both files have the same number of entries and corresponding data\n",
    "for i in range(len(sofascore_data['statistics'])):\n",
    "    # Adjust the index based on the structure of your data\n",
    "    understat_index = i  # Or use any mapping logic based on your data structure\n",
    "    sofascore_stats = sofascore_data['statistics'][i]['groups']\n",
    "\n",
    "    # Check if the index exists in the understat data\n",
    "    if str(understat_index) in understat_data:\n",
    "        understat_stats = understat_data[str(understat_index)]\n",
    "\n",
    "        merged_data[i] = {\n",
    "            'statistics': sofascore_stats + [\n",
    "                {\n",
    "                    'groupName': 'Kmetrics',\n",
    "                    'statisticsItems': [\n",
    "                        {\n",
    "                            'name': 'Deep',\n",
    "                            'home': understat_stats['h_deep'],\n",
    "                            'away': understat_stats['a_deep'],\n",
    "                            'compareCode': 1,\n",
    "                            'statisticsType': 'positive',\n",
    "                            'valueType': 'event',\n",
    "                            'homeValue': float(understat_stats['h_deep']),\n",
    "                            'awayValue': float(understat_stats['a_deep'])\n",
    "                        },\n",
    "                        {\n",
    "                            'name': 'PPDA',\n",
    "                            'home': understat_stats['h_ppda'],\n",
    "                            'away': understat_stats['a_ppda'],\n",
    "                            'compareCode': 1,\n",
    "                            'statisticsType': 'positive',\n",
    "                            'valueType': 'event',\n",
    "                            'homeValue': float(understat_stats['h_ppda']),\n",
    "                            'awayValue': float(understat_stats['a_ppda'])\n",
    "                        }\n",
    "                    ]\n",
    "                }\n",
    "            ]\n",
    "        }\n",
    "\n",
    "# Save the merged data to a new file\n",
    "with open('merged_match_data.json', 'w') as f:\n",
    "    json.dump(merged_data, f, indent=2)"
   ]
  },
  {
   "cell_type": "code",
   "execution_count": null,
   "id": "ab6bbea0",
   "metadata": {},
   "outputs": [],
   "source": []
  }
 ],
 "metadata": {
  "kernelspec": {
   "display_name": "Python 3 (ipykernel)",
   "language": "python",
   "name": "python3"
  },
  "language_info": {
   "codemirror_mode": {
    "name": "ipython",
    "version": 3
   },
   "file_extension": ".py",
   "mimetype": "text/x-python",
   "name": "python",
   "nbconvert_exporter": "python",
   "pygments_lexer": "ipython3",
   "version": "3.11.4"
  }
 },
 "nbformat": 4,
 "nbformat_minor": 5
}
