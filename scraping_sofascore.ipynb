{
 "cells": [
  {
   "cell_type": "code",
   "execution_count": 2,
   "metadata": {
    "id": "N5mPLwJZOxo2"
   },
   "outputs": [],
   "source": [
    "import requests\n",
    "from bs4 import BeautifulSoup"
   ]
  },
  {
   "cell_type": "code",
   "execution_count": 3,
   "metadata": {
    "id": "iMHztbNMOxo3"
   },
   "outputs": [],
   "source": [
    "response = requests.get(\n",
    "    'https://www.sofascore.com/girona-fc-barcelona/rgbsoKj#id:11369420',\n",
    "    headers={\n",
    "        'user-agent': 'Mozilla/5.0 (Windows NT 10.0; Win64; x64) AppleWebKit/537.36 (KHTML, like Gecko) Chrome/120.0.0.0 Safari/537.36'\n",
    "    }\n",
    "    )"
   ]
  },
  {
   "cell_type": "code",
   "execution_count": 4,
   "metadata": {
    "id": "7TosYjRJOxo4"
   },
   "outputs": [],
   "source": [
    "soup = BeautifulSoup(response.text, 'html.parser')"
   ]
  },
  {
   "cell_type": "code",
   "execution_count": 5,
   "metadata": {
    "id": "iom0P0a8Oxo4"
   },
   "outputs": [],
   "source": [
    "headers = {\n",
    "    'authority': 'api.sofascore.com',\n",
    "    'accept': '*/*',\n",
    "    'accept-language': 'uk,ru-RU;q=0.9,ru;q=0.8,en-US;q=0.7,en;q=0.6',\n",
    "    'cache-control': 'max-age=0',\n",
    "    'if-none-match': 'W/\"a6032310e5\"',\n",
    "    'origin': 'https://www.sofascore.com',\n",
    "    'referer': 'https://www.sofascore.com/',\n",
    "    'sec-ch-ua': '\"Not_A Brand\";v=\"8\", \"Chromium\";v=\"120\", \"Google Chrome\";v=\"120\"',\n",
    "    'sec-ch-ua-mobile': '?0',\n",
    "    'sec-ch-ua-platform': '\"Windows\"',\n",
    "    'sec-fetch-dest': 'empty',\n",
    "    'sec-fetch-mode': 'cors',\n",
    "    'sec-fetch-site': 'same-site',\n",
    "    'user-agent': 'Mozilla/5.0 (Windows NT 10.0; Win64; x64) AppleWebKit/537.36 (KHTML, like Gecko) Chrome/120.0.0.0 Safari/537.36',\n",
    "}\n",
    "headers['If-Modified-Since'] = 'Mon, 1 Jan 2024 00:00:00 GMT'\n",
    "response_shots = requests.get('https://api.sofascore.com/api/v1/event/11369420/shotmap', headers=headers)"
   ]
  },
  {
   "cell_type": "code",
   "execution_count": 6,
   "metadata": {
    "id": "Lh1qIqNPOxo5"
   },
   "outputs": [],
   "source": [
    "headers = {\n",
    "    'authority': 'api.sofascore.com',\n",
    "    'accept': '*/*',\n",
    "    'accept-language': 'uk,ru-RU;q=0.9,ru;q=0.8,en-US;q=0.7,en;q=0.6',\n",
    "    'cache-control': 'max-age=0',\n",
    "    'if-none-match': 'W/\"268b4d4fab\"',\n",
    "    'origin': 'https://www.sofascore.com',\n",
    "    'referer': 'https://www.sofascore.com/',\n",
    "    'sec-ch-ua': '\"Not_A Brand\";v=\"8\", \"Chromium\";v=\"120\", \"Google Chrome\";v=\"120\"',\n",
    "    'sec-ch-ua-mobile': '?0',\n",
    "    'sec-ch-ua-platform': '\"Windows\"',\n",
    "    'sec-fetch-dest': 'empty',\n",
    "    'sec-fetch-mode': 'cors',\n",
    "    'sec-fetch-site': 'same-site',\n",
    "    'user-agent': 'Mozilla/5.0 (Windows NT 10.0; Win64; x64) AppleWebKit/537.36 (KHTML, like Gecko) Chrome/120.0.0.0 Safari/537.36',\n",
    "}\n",
    "headers['If-Modified-Since'] = 'Mon, 1 Jan 2024 00:00:00 GMT'\n",
    "response_statistics = requests.get('https://api.sofascore.com/api/v1/event/11369420/statistics', headers=headers)"
   ]
  },
  {
   "cell_type": "code",
   "execution_count": 7,
   "metadata": {
    "id": "GuVGLaajOxo7"
   },
   "outputs": [],
   "source": [
    "headers = {\n",
    "    'authority': 'api.sofascore.com',\n",
    "    'accept': '*/*',\n",
    "    'accept-language': 'uk,ru-RU;q=0.9,ru;q=0.8,en-US;q=0.7,en;q=0.6',\n",
    "    'cache-control': 'max-age=0',\n",
    "    'if-none-match': 'W/\"2528aac3b0\"',\n",
    "    'origin': 'https://www.sofascore.com',\n",
    "    'referer': 'https://www.sofascore.com/',\n",
    "    'sec-ch-ua': '\"Not_A Brand\";v=\"8\", \"Chromium\";v=\"120\", \"Google Chrome\";v=\"120\"',\n",
    "    'sec-ch-ua-mobile': '?0',\n",
    "    'sec-ch-ua-platform': '\"Windows\"',\n",
    "    'sec-fetch-dest': 'empty',\n",
    "    'sec-fetch-mode': 'cors',\n",
    "    'sec-fetch-site': 'same-site',\n",
    "    'user-agent': 'Mozilla/5.0 (Windows NT 10.0; Win64; x64) AppleWebKit/537.36 (KHTML, like Gecko) Chrome/120.0.0.0 Safari/537.36',\n",
    "}\n",
    "headers['If-Modified-Since'] = 'Mon, 1 Jan 2024 00:00:00 GMT'\n",
    "response_history = requests.get('https://api.sofascore.com/api/v1/event/11369420/pregame-form', headers=headers)\n"
   ]
  },
  {
   "cell_type": "code",
   "execution_count": 8,
   "metadata": {
    "id": "2LheuoOAOxo7"
   },
   "outputs": [],
   "source": [
    "shots = response_shots.json()\n",
    "statistics = response_statistics.json()\n",
    "history = response_history.json()"
   ]
  },
  {
   "cell_type": "code",
   "execution_count": 9,
   "metadata": {
    "colab": {
     "base_uri": "https://localhost:8080/"
    },
    "id": "p01nLq-WOxo8",
    "outputId": "abb1dc85-9711-4d17-c9e2-9b4678b2dba7"
   },
   "outputs": [
    {
     "name": "stdout",
     "output_type": "stream",
     "text": [
      "Expected goals\n",
      "Ball possession\n",
      "Total shots\n",
      "Shots on target\n",
      "Shots off target\n",
      "Blocked shots\n",
      "Corner kicks\n",
      "Offsides\n",
      "Fouls\n",
      "Yellow cards\n",
      "Free kicks\n",
      "Throw-ins\n",
      "Goal kicks\n",
      "Big chances\n",
      "Big chances missed\n",
      "Counter attacks\n",
      "Counter attack shots\n",
      "Shots inside box\n",
      "Shots outside box\n",
      "Goalkeeper saves\n",
      "Goals prevented\n",
      "Passes\n",
      "Accurate passes\n",
      "Long balls\n",
      "Crosses\n",
      "Dribbles\n",
      "Possession lost\n",
      "Duels won\n",
      "Aerials won\n",
      "Tackles\n",
      "Interceptions\n",
      "Clearances\n"
     ]
    }
   ],
   "source": [
    "for group in statistics['statistics'][0]['groups']:\n",
    "    for name in group['statisticsItems']:\n",
    "        print(name['name'])"
   ]
  },
  {
   "cell_type": "code",
   "execution_count": 10,
   "metadata": {
    "colab": {
     "base_uri": "https://localhost:8080/"
    },
    "id": "AQSK2iczOxo8",
    "outputId": "a74fdcca-fc45-4660-864c-3889fe8317f7"
   },
   "outputs": [
    {
     "name": "stdout",
     "output_type": "stream",
     "text": [
      "Fermín López xg:0.089518263936043 minute:97\n",
      "Cristhian Stuani xg:0.18668082356453 minute:95\n",
      "Robert Lewandowski xg:0.19569592177868 minute:93\n",
      "İlkay Gündoğan xg:0.13480322062969 minute:92\n",
      "Ferran Torres xg:0.024741651490331 minute:91\n",
      "Jhon Solís xg:0.3802438378334 minute:90\n",
      "Jhon Solís xg:0.0090180030092597 minute:89\n",
      "Fermín López xg:0.13270133733749 minute:89\n",
      "Fermín López xg:0.078556895256042 minute:88\n",
      "İlkay Gündoğan xg:0.40994116663933 minute:86\n",
      "Jules Koundé xg:0.029910370707512 minute:86\n",
      "Cristhian Stuani xg:0.061566550284624 minute:84\n",
      "Sávio xg:0.29238563776016 minute:83\n",
      "Valery Fernández xg:0.38780152797699 minute:80\n",
      "İlkay Gündoğan xg:0.10261054337025 minute:76\n",
      "Robert Lewandowski xg:0.04597145691514 minute:70\n",
      "İlkay Gündoğan xg:0.08596845716238 minute:68\n",
      "İlkay Gündoğan xg:0.047045711427927 minute:67\n",
      "Robert Lewandowski xg:0.09953798353672 minute:64\n",
      "İlkay Gündoğan xg:0.046940956264734 minute:64\n",
      "Yan Couto xg:0.038350664079189 minute:61\n",
      "Viktor Tsygankov xg:0.12237660586834 minute:60\n",
      "Raphinha xg:0.044366419315338 minute:58\n",
      "İlkay Gündoğan xg:0.041536565870047 minute:57\n",
      "Raphinha xg:0.11066731065512 minute:54\n",
      "Raphinha xg:0.093338400125504 minute:53\n",
      "Frenkie de Jong xg:0.033609200268984 minute:51\n",
      "Raphinha xg:0.022915871813893 minute:48\n",
      "Robert Lewandowski xg:0.3352207839489 minute:48\n",
      "Miguel Gutiérrez xg:0.098325744271278 minute:40\n",
      "Miguel Gutiérrez xg:0.16787230968475 minute:39\n",
      "Raphinha xg:0.032239526510239 minute:39\n",
      "João Cancelo xg:0.24311856925488 minute:32\n",
      "İlkay Gündoğan xg:0.065488830208778 minute:30\n",
      "João Félix xg:0.051957704126835 minute:29\n",
      "Miguel Gutiérrez xg:0.034673135727644 minute:27\n",
      "Artem Dovbyk xg:0.078363738954067 minute:24\n",
      "Raphinha xg:0.036325812339783 minute:21\n",
      "Robert Lewandowski xg:0.21745665371418 minute:19\n",
      "Raphinha xg:0.69451344013214 minute:18\n",
      "João Félix xg:0.052274648100138 minute:15\n",
      "Artem Dovbyk xg:0.46322283148766 minute:12\n",
      "Robert Lewandowski xg:0.11741917580366 minute:7\n",
      "Viktor Tsygankov xg:0.073208592832088 minute:6\n",
      "Raphinha xg:0.023562334477901 minute:5\n",
      "David López xg:0.082762151956558 minute:2\n"
     ]
    }
   ],
   "source": [
    "for shot in shots['shotmap']:\n",
    "    print(str(shot['player']['name']) + ' xg:' + str(shot['xg']) + ' minute:' + str(int(shot['timeSeconds']/60)+1))"
   ]
  },
  {
   "cell_type": "code",
   "execution_count": 11,
   "metadata": {
    "id": "VhGNL4Z4Oxo-"
   },
   "outputs": [],
   "source": [
    "import json\n",
    "with open('./data/sofascore/history.json', 'w') as f:\n",
    "    json.dump(history, f)"
   ]
  },
  {
   "cell_type": "code",
   "execution_count": 12,
   "metadata": {
    "id": "9TR4ZvzZOxo-"
   },
   "outputs": [],
   "source": [
    "import json\n",
    "with open('./data/sofascore/shots.json', 'w') as f:\n",
    "    json.dump(shots, f)"
   ]
  },
  {
   "cell_type": "code",
   "execution_count": 13,
   "metadata": {
    "id": "Tnbjf9-tOxo_"
   },
   "outputs": [],
   "source": [
    "import json\n",
    "with open('./data/sofascore/statistics.json', 'w') as f:\n",
    "    json.dump(statistics, f)"
   ]
  },
  {
   "cell_type": "code",
   "execution_count": null,
   "metadata": {},
   "outputs": [],
   "source": []
  }
 ],
 "metadata": {
  "colab": {
   "provenance": []
  },
  "kernelspec": {
   "display_name": "Python 3 (ipykernel)",
   "language": "python",
   "name": "python3"
  },
  "language_info": {
   "codemirror_mode": {
    "name": "ipython",
    "version": 3
   },
   "file_extension": ".py",
   "mimetype": "text/x-python",
   "name": "python",
   "nbconvert_exporter": "python",
   "pygments_lexer": "ipython3",
   "version": "3.9.6"
  }
 },
 "nbformat": 4,
 "nbformat_minor": 1
}
